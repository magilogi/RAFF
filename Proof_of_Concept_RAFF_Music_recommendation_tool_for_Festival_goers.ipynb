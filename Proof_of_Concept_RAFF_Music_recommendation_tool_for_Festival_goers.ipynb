{
  "nbformat": 4,
  "nbformat_minor": 0,
  "metadata": {
    "colab": {
      "name": "Proof-of-Concept - RAFF: Music recommendation tool for Festival-goers.ipynb",
      "provenance": [],
      "collapsed_sections": []
    },
    "kernelspec": {
      "name": "python3",
      "display_name": "Python 3"
    },
    "language_info": {
      "name": "python"
    }
  },
  "cells": [
    {
      "cell_type": "markdown",
      "source": [
        "**Welcome to the proof-of-concept demo for RAFF: A new Music Recommendation tool for festival-goers.**\n",
        "\n",
        "---\n",
        "\n",
        "! Run each cell sequentially, below. If any error occurs, try restarting the runtime.\n",
        "\n",
        "Step 1: Loading dependencies \n"
      ],
      "metadata": {
        "id": "8lkFVEI43Qqj"
      }
    },
    {
      "cell_type": "code",
      "source": [
        "!pip3 install spotipy --upgrade #Downloading Spotipy\n"
      ],
      "metadata": {
        "id": "28IHcaTs4RpX"
      },
      "execution_count": null,
      "outputs": []
    },
    {
      "cell_type": "code",
      "source": [
        ""
      ],
      "metadata": {
        "id": "XS2H9yE8-hmy"
      },
      "execution_count": null,
      "outputs": []
    },
    {
      "cell_type": "code",
      "source": [
        "import spotipy\n",
        "import requests\n",
        "import numpy as np\n",
        "import pandas as pd\n",
        "from spotipy import util\n",
        "from collections import Counter\n"
      ],
      "metadata": {
        "id": "D-PUUM3p4XsO"
      },
      "execution_count": null,
      "outputs": []
    },
    {
      "cell_type": "markdown",
      "source": [
        "Step 2: Spotify API authorization. Since the tool is not implemented in a web application yet, the API token must be manually retrieved. For this private demonstration I have not redacted my private key. Please do not copy or share"
      ],
      "metadata": {
        "id": "YDoy-7Ga3nok"
      }
    },
    {
      "cell_type": "code",
      "execution_count": null,
      "metadata": {
        "id": "FY_I0jRu3D3R"
      },
      "outputs": [],
      "source": [
        "# Input your Spotify credentials. For a more interactive experience use own credentials. This demo version features my credentials. \n",
        "username = \"Nikolaj Munch\"\n",
        "scope = 'user-library-read user-top-read user-follow-read app-remote-control streaming'\n",
        "client_id = \"ca3dbbb16ddb49e2a7d74ba90885db04\"\n",
        "client_secret = "xxx",
        "redict_uri = \"http://example.com/callback/\"\n",
        "\n",
        "\n",
        "tk = spotipy.SpotifyOAuth(client_id=client_id, client_secret=client_secret, redirect_uri=redict_uri, scope=scope, open_browser=False)\n",
        "\n",
        "sp = spotipy.Spotify(auth_manager = tk)"
      ]
    },
    {
      "cell_type": "markdown",
      "source": [
        "Step 3: Defining data aggregation and processing functions"
      ],
      "metadata": {
        "id": "7ec2g9Fo5ltH"
      }
    },
    {
      "cell_type": "code",
      "source": [
        "def process_user_data():\n",
        "  artists_longterm = pd.DataFrame(sp.current_user_top_artists(limit = 30, time_range = \"long_term\")['items']) # Get long term listening habits\n",
        "  artists_mediumterm = pd.DataFrame(sp.current_user_top_artists(limit = 30, time_range = \"medium_term\")['items']) # Get medium term listening habits\n",
        "  artists_shortterm = pd.DataFrame(sp.current_user_top_artists(limit = 30, time_range = \"short_term\")['items']) # Get long term listening habits\n",
        "  artists_all = pd.concat([artists_longterm, artists_mediumterm, artists_shortterm])  # Combine time-frames for full profile of music taste\n",
        "  return artists_all"
      ],
      "metadata": {
        "id": "Y6a3NFbF5ee4"
      },
      "execution_count": null,
      "outputs": []
    },
    {
      "cell_type": "code",
      "source": [
        "\n",
        "  "
      ],
      "metadata": {
        "id": "PNYh5FR_DpdB"
      },
      "execution_count": null,
      "outputs": []
    },
    {
      "cell_type": "code",
      "source": [
        "def clean_user_data():\n",
        "  artist_genres = artists_all.filter(items=['genres', 'name']) #Create a new dataframe with only artists' names and genres.\n",
        "  artist_genres_s = artist_genres.drop_duplicates(subset='name', keep=\"first\") #Remove duplicate artists that arises from concatenating the time ranges\n",
        "  artist_genres_s = artist_genres_s[artist_genres_s['genres'].map(lambda d: len(d)) > 0] #Remove artists where genre information is unavailable\n",
        "  artist_genres_s = artist_genres_s.reset_index(drop=True) #Reset index of dataframe\n",
        "  artist_genres_s #Show final music taste dataframe\n",
        "  return(artist_genres_s)"
      ],
      "metadata": {
        "id": "-rOE5Syb6Oct"
      },
      "execution_count": null,
      "outputs": []
    },
    {
      "cell_type": "code",
      "source": [
        "#For demonstration purposes half of the user data will be used to generate the user's listening analysis, and the other half of the data, will be treated as a hypothetical festival line-up\n",
        "#When utilizing this tool for a real festival, the line-up data will contain of metadata obtained through GET-requests from all of the artists IDs in the line-up. "
      ],
      "metadata": {
        "id": "ud-LoExv7DGN"
      },
      "execution_count": null,
      "outputs": []
    },
    {
      "cell_type": "code",
      "source": [
        "user = artist_genres_s[0:27] #Split data to emulate personal user data \n",
        "lineup = artist_genres_s[28:55] # and hypothetical festival lineup\n",
        "\n",
        "#For this demo we are attending a small festival in California. \n",
        "#Knowing that I prefer hip-hop, rap and pop, it is to be expected that I'm suggested such artists. --> View the artists in the festival line-up below\n",
        "print(lineup['name'].to_string(index=False))"
      ],
      "metadata": {
        "id": "3toQ98-aHEW0",
        "colab": {
          "base_uri": "https://localhost:8080/"
        },
        "outputId": "6d8ca4b4-1da9-45ce-ec26-dd5864f7d7f3"
      },
      "execution_count": null,
      "outputs": [
        {
          "output_type": "stream",
          "name": "stdout",
          "text": [
            "       Fleet Foxes\n",
            "           J. Cole\n",
            "       Justice Der\n",
            "    Arctic Monkeys\n",
            "         070 Shake\n",
            "         A$AP Ferg\n",
            "            Benji.\n",
            "            WizKid\n",
            "          Omah Lay\n",
            "         Baby Keem\n",
            "          Doja Cat\n",
            "  Spillage Village\n",
            "         Burna Boy\n",
            "        Bo Burnham\n",
            "    Mumford & Sons\n",
            "       James Blunt\n",
            "       Alex Turner\n",
            "         Radiohead\n",
            "        Ed Sheeran\n",
            "       The Killers\n",
            "     The Lumineers\n",
            "            Hozier\n",
            "             alt-J\n",
            "         Vance Joy\n",
            "   The Minds Of 99\n",
            " Simon & Garfunkel\n",
            "      Taylor Swift\n"
          ]
        }
      ]
    },
    {
      "cell_type": "code",
      "source": [
        "def data_to_dict():\n",
        "  Count_U = user['genres'].apply(Counter) #Turn genre metadata into Counter dictionary with frequency of genres\n",
        "  user1 = user.assign(Count_U=Count_U.values) #Map to original artists\n",
        "  taste_df = user1.genres.sum() #Summarize and remove low frequencies of personal preferred genres for most accuracy preference comparison\n",
        "  taste_dict = Counter(taste_df) # ^\n",
        "  taste_dict_s = {k:v for k,v in taste_dict.items() if v != 1} # ^\n",
        "  return(taste_dict_s)\n"
      ],
      "metadata": {
        "id": "j12T6z7z8Mge"
      },
      "execution_count": null,
      "outputs": []
    },
    {
      "cell_type": "code",
      "source": [
        "def lineup_to_dict():\n",
        "  Count_L = lineup['genres'].apply(Counter) #Turn genre metadata for lineup into dict of genre frequency \n",
        "  lineup_d = lineup.assign(Count_L=Count_L.values) #Assign dict to original artists\n",
        "  return(lineup_d)\n"
      ],
      "metadata": {
        "id": "O-U98QS48wMQ"
      },
      "execution_count": null,
      "outputs": []
    },
    {
      "cell_type": "code",
      "source": [
        "def calculate_similarity_scores(): #This function will compare each key (genre) in the lineup_dict (genre overview of each artist) with the preferred genres of the user. and output which artists in the line-up overlap the most. \n",
        "  lineup_dicts = lineup_d['Count_L']\n",
        "  total = []\n",
        "  i = 0\n",
        "  for band in lineup_dicts:\n",
        "      i += 1\n",
        "      band_count = 0 #resets with each band/artist\n",
        "      for key in band:\n",
        "            band_count += key in taste_dict_s\n",
        "      i += band_count\n",
        "      #print(f\"Band: {band} Matches: {band_count}\")\n",
        "      #print(f\"Overall count so far: {i}\")\n",
        "      total.append((band_count))\n",
        "  lineup['Matches'] = total\n",
        "  return(lineup)"
      ],
      "metadata": {
        "id": "UQjVCHQD8XZh"
      },
      "execution_count": null,
      "outputs": []
    },
    {
      "cell_type": "code",
      "source": [
        "def ranking_scores(): #This function sorts the artists with most overlap of preferred genres. And outputs top 10 artists with most overlaps\n",
        "  lineup_s = lineup.sort_values(by=['Matches'], ascending=False)\n",
        "  top10suggestions = lineup_s['name'][0:10]\n",
        "  return(top10suggestions)"
      ],
      "metadata": {
        "id": "6h1JH68o96p9"
      },
      "execution_count": null,
      "outputs": []
    },
    {
      "cell_type": "code",
      "source": [
        "def output_recommendations():\n",
        "  print(f\"Thanks for trying out the Proof-of-concept version of RAFF. Based on your(/my) music taste you should go see :  {top10suggestions.to_string(index=False)} ---- Have fun at the festival!\")"
      ],
      "metadata": {
        "id": "c4Nds6De9Lvn"
      },
      "execution_count": null,
      "outputs": []
    },
    {
      "cell_type": "markdown",
      "source": [
        "Step 4: Running demo"
      ],
      "metadata": {
        "id": "eLlsbD4T-6fW"
      }
    },
    {
      "cell_type": "code",
      "source": [
        "print(\"Getting user data... Copy redirected URL link and paste it\")\n",
        "artists_all = process_user_data()\n",
        "print(\"Cleaning user data...\")\n",
        "artist_genres_s = clean_user_data()\n",
        "print(\"Converting data to dictionaires\")\n",
        "taste_dict_s = data_to_dict()\n",
        "lineup_d = lineup_to_dict()\n",
        "print(\"Calculating similarity scores...\")\n",
        "lineup = calculate_similarity_scores()\n",
        "print(\"\")\n",
        "top10suggestions = ranking_scores()\n",
        "output_recommendations()"
      ],
      "metadata": {
        "id": "lWc1kRtE--Ly",
        "colab": {
          "base_uri": "https://localhost:8080/"
        },
        "outputId": "005485eb-5719-4ed7-c9c9-2c8c3602f585"
      },
      "execution_count": null,
      "outputs": [
        {
          "output_type": "stream",
          "name": "stdout",
          "text": [
            "Getting user data... Copy redirected URL link and paste it\n",
            "Cleaning user data...\n",
            "Converting data to dictionaires\n",
            "Calculating similarity scores...\n",
            "\n",
            "Thanks for trying out the Proof-of-concept version of RAFF. Based on your music taste you should go see :          Baby Keem\n",
            "          J. Cole\n",
            "        A$AP Ferg\n",
            " Spillage Village\n",
            "     Taylor Swift\n",
            "      James Blunt\n",
            "    The Lumineers\n",
            "         Doja Cat\n",
            "           Hozier\n",
            "        Vance Joy Have fun at the festival!\n"
          ]
        }
      ]
    },
    {
      "cell_type": "code",
      "source": [
        "#If you are feeling adventurous and do not want to stay within your comfort zone, you can flip the suggestions giving you the least similar artists. \n",
        "\n",
        "def low_ranking_scores(): #This function sorts the artists with least overlap of preferred genres. And outputs top 10 artists with least overlaps\n",
        "  lineup_s = lineup.sort_values(by=['Matches'], ascending=False)\n",
        "  bottom10suggestions = lineup_s['name'].iloc[-10:]\n",
        "  return(bottom10suggestions)\n",
        "\n",
        "bottom10suggestions = low_ranking_scores()\n",
        "print(f\"If you want to listen to something you're not use to, go hear: {bottom10suggestions.to_string(index=False)}        --> Enjoy! :) \")"
      ],
      "metadata": {
        "id": "JOwvVjhJQ_Z8",
        "colab": {
          "base_uri": "https://localhost:8080/"
        },
        "outputId": "42ae21a3-87c9-4597-910b-05382a2a4e24"
      },
      "execution_count": null,
      "outputs": [
        {
          "output_type": "stream",
          "name": "stdout",
          "text": [
            "If you want to listen to something you're not use to, go hear:     Fleet Foxes\n",
            "    Alex Turner\n",
            " Mumford & Sons\n",
            "      Burna Boy\n",
            "       Omah Lay\n",
            "         WizKid\n",
            "         Benji.\n",
            " Arctic Monkeys\n",
            "    Justice Der\n",
            "     Bo Burnham        --> Enjoy! :) \n"
          ]
        }
      ]
    }
  ]
}
